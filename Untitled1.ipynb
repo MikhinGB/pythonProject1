{
 "cells": [
  {
   "cell_type": "markdown",
   "id": "29373a84-74a9-4f7b-91df-e9c9c9925086",
   "metadata": {},
   "source": [
    "# <center>Дипломная работа по теме: Сравнение различных библиотек для визуализации данных: Matplotlib, Seaborn и Plotly: Создать набор визуализаций с использованием Matplotlib, Seaborn и Plotly, сравнить их функциональность и удобство использования.</center>"
   ]
  },
  {
   "cell_type": "markdown",
   "id": "005462b9-73ad-48f6-8297-bc08599fbb6d",
   "metadata": {},
   "source": [
    "#### Автор: МИХИН Григорий Борисович"
   ]
  },
  {
   "cell_type": "markdown",
   "id": "50d6eda0-ceb3-4b53-85af-036c43ba53f5",
   "metadata": {},
   "source": [
    "# Обзор библиотек Seaborn, Matplotlib и Plotly"
   ]
  },
  {
   "cell_type": "markdown",
   "id": "3de9bcc7-2681-41a3-b7e2-c280d8786445",
   "metadata": {},
   "source": [
    "Настроим окружение: импортируем все необходимые библиотеки и немного настроим дефолтное отображение картинок."
   ]
  },
  {
   "cell_type": "code",
   "execution_count": null,
   "id": "8df23dcc-05f4-4245-9b69-4bf05fbd08de",
   "metadata": {},
   "outputs": [],
   "source": [
    "# отключим предупреждения Anaconda\n",
    "import warnings\n",
    "warnings.simplefilter('ignore')\n",
    "\n",
    "# будем отображать графики прямо в jupyter'e\n",
    "%matplotlib inline\n",
    "import seaborn as sns\n",
    "import matplotlib.pyplot as plt\n",
    "#графики в svg выглядят более четкими\n",
    "%config InlineBackend.figure_format = 'svg' \n",
    "\n",
    "#увеличим дефолтный размер графиков\n",
    "from pylab import rcParams\n",
    "rcParams['figure.figsize'] = 8, 5\n",
    "import pandas as pd"
   ]
  },
  {
   "cell_type": "markdown",
   "id": "9b5b0b1f-c55c-4b89-b654-906816772d34",
   "metadata": {},
   "source": [
    "После этого загрузим в `dataframe` данные, с которыми будем работать. Для примеров визуализаций я выбрал данные о продажах и оценках видео-игр с Kaggle Datasets. Данные об оценках игр есть не для всех строк, поэтому сразу оставим только те записи, по которым есть полные данные."
   ]
  },
  {
   "cell_type": "code",
   "execution_count": null,
   "id": "e36894ec-2877-4525-819b-1294f2478f13",
   "metadata": {},
   "outputs": [],
   "source": [
    "df = pd.read_csv('dataset1.csv').dropna()\n",
    "print(df.shape)"
   ]
  },
  {
   "cell_type": "code",
   "execution_count": null,
   "id": "d5631e08-7607-4e05-9ef8-8c00a92eb10d",
   "metadata": {},
   "outputs": [],
   "source": [
    "df.info()"
   ]
  },
  {
   "cell_type": "code",
   "execution_count": null,
   "id": "533293d2-1840-4573-a1ea-f4fb74626ea4",
   "metadata": {},
   "outputs": [],
   "source": [
    "df['User_Score'] = df.User_Score.astype('float64')\n",
    "df['Year_of_Release'] = df.Year_of_Release.astype('int64')\n",
    "df['User_Count'] = df.User_Count.astype('int64')\n",
    "df['Critic_Count'] = df.Critic_Count.astype('int64')"
   ]
  },
  {
   "cell_type": "markdown",
   "id": "08a61b6a-4e01-48a1-8551-47253ec38e41",
   "metadata": {},
   "source": [
    "Всего в таблице 6825 объектов и 16 признаков для них. Посмотрим на несколько первых записей c помощью метода `head`, чтобы убедиться, что все распарсилось правильно. Для удобства я оставил только те признаки, которые мы будем в дальнейшем использовать."
   ]
  },
  {
   "cell_type": "code",
   "execution_count": null,
   "id": "7cb2045a-0011-4e19-a525-b6efe05e742b",
   "metadata": {},
   "outputs": [],
   "source": [
    "useful_cols = ['Name', 'Platform', 'Year_of_Release', 'Genre', \n",
    "               'Global_Sales', 'Critic_Score', 'Critic_Count',\n",
    "               'User_Score', 'User_Count', 'Rating'\n",
    "              ]\n",
    "df[useful_cols].head()"
   ]
  },
  {
   "cell_type": "markdown",
   "id": "1dca3d54-c073-418e-b9cb-5055530a7509",
   "metadata": {},
   "source": [
    "Прежде чем мы перейдем к рассмотрению методов библиотек __seaborn__ и __plotly__, hfccvотримим самый простой и зачастую удобный способ визуализировать данные из `pandas` `dataframe` — это воспользоваться функцией `plot`. Для примера построим график продаж видео игр в различных странах в зависимости от года. Для начала отфильтруем только нужные нам столбцы, затем посчитаем суммарные продажи по годам и у получившегося `dataframe` вызовем функцию `plot` без параметров."
   ]
  },
  {
   "cell_type": "markdown",
   "id": "bf8de9af-2006-44d6-a450-1deb11dcfcd8",
   "metadata": {},
   "source": [
    "Реализация функции `plot` в `pandas` основана на библиотеке `matplotlib`."
   ]
  },
  {
   "cell_type": "code",
   "execution_count": null,
   "id": "7fddc321-1fe4-4180-ba8a-f205636a38b1",
   "metadata": {},
   "outputs": [],
   "source": [
    "df[[x for x in df.columns if 'Sales' in x] + \n",
    "   ['Year_of_Release']].groupby('Year_of_Release').sum().plot();"
   ]
  },
  {
   "cell_type": "markdown",
   "id": "8ad2cf37-8441-4fb3-878f-f344e0a67c77",
   "metadata": {},
   "source": [
    "C помощью параметра `kind` можно изменить тип графика, например, на `bar chart`. `Matplotlib` позволяет очень гибко настраивать графики. На графике можно изменить почти все, что угодно, но потребуется порыться в документации и найти нужные параметры. Например, параметра rot отвечает за угол наклона подписей к оси x."
   ]
  },
  {
   "cell_type": "code",
   "execution_count": null,
   "id": "714b97c2-8fec-4371-b8aa-34672c27bbb7",
   "metadata": {},
   "outputs": [],
   "source": [
    "df[[x for x in df.columns if 'Sales' in x] + \n",
    "   ['Year_of_Release']].groupby('Year_of_Release').sum().plot(kind='bar', rot=45);"
   ]
  },
  {
   "cell_type": "markdown",
   "id": "84f6454b-cf33-4a83-835d-2ff8667100fa",
   "metadata": {},
   "source": [
    "# Seaborn"
   ]
  },
  {
   "cell_type": "markdown",
   "id": "6bba802e-f218-4d5f-857e-965bf19b614a",
   "metadata": {},
   "source": [
    "Теперь перейдем к библиотеке __seaborn__. __Seaborn__ — это по сути более высокоуровневое API на базе библиотеки `matplotlib`. Seaborn содержит более адекватные дефолтные настройки оформления графиков. Если просто добавить в код import seaborn, то картики станут гораздо симпатичнее. Также в библиотеке есть достаточно сложные типы визуализации, которые в matplotlib потребовали бы большого количество кода."
   ]
  },
  {
   "cell_type": "markdown",
   "id": "1d64311a-8140-4fb3-906e-5b30b957ddfa",
   "metadata": {},
   "source": [
    "Познакомимся с первым таким \"сложным\" типом графиков `pair plot` (scatter plot matrix). Эта визуализация поможет нам посмотреть на одной картинке, как связаны между собой различные признаки."
   ]
  },
  {
   "cell_type": "code",
   "execution_count": null,
   "id": "22469cbe-248e-4d1a-a4f9-f27ba05ac254",
   "metadata": {},
   "outputs": [],
   "source": [
    "# c svg pairplot браузер начинает тормозить\n",
    "%config InlineBackend.figure_format = 'png' \n",
    "sns.pairplot(df[['Global_Sales', 'Critic_Score', 'Critic_Count', \n",
    "                 'User_Score', 'User_Count']]);"
   ]
  },
  {
   "cell_type": "markdown",
   "id": "de0c01f3-0499-4361-9e6e-31d6d219e60d",
   "metadata": {},
   "source": [
    "Также с помощью __seaborn__ можно построить распределение, для примера посмотрим на распределение оценок критиков `Critic_Score`. Для этого построим `distplot`. По default'у на графике отображается гистограмма и kernel density estimation."
   ]
  },
  {
   "cell_type": "code",
   "execution_count": null,
   "id": "eee256ec-3fd3-4855-8b60-c2c534e5c2f5",
   "metadata": {},
   "outputs": [],
   "source": [
    "%config InlineBackend.figure_format = 'svg' \n",
    "sns.distplot(df.Critic_Score);"
   ]
  },
  {
   "cell_type": "markdown",
   "id": "a9d6a8bb-ea43-4bfd-9581-588e4fd5d85d",
   "metadata": {},
   "source": [
    "Для того чтобы подробнее посмотреть на взаимосвязь двух численных признаков, есть еще и `joint_plot` – это гибрид `scatter plot` и `histogram` (отображаются также гистограммы распределений признаков). Посмотрим на то, как связаны между собой оценка критиков `Critic_Score` и оценка пользователя `User_Score`."
   ]
  },
  {
   "cell_type": "code",
   "execution_count": null,
   "id": "86fbe3b3-57fd-4e37-be20-cf28e3cf2129",
   "metadata": {},
   "outputs": [],
   "source": [
    "sns.jointplot(x='Critic_Score', y='User_Score', \n",
    "              data=df, kind='scatter');"
   ]
  },
  {
   "cell_type": "markdown",
   "id": "4c364530-32f6-47f6-accf-e1b7c67f7d7a",
   "metadata": {},
   "source": [
    "Еще один полезный тип графиков – это box plot. Давайте сравним пользовательские оценки игр для топ-5 крупнейших игровых платформ."
   ]
  },
  {
   "cell_type": "code",
   "execution_count": null,
   "id": "89b42cbc-df76-4ee4-8c2f-f212ec602cb6",
   "metadata": {},
   "outputs": [],
   "source": [
    "top_platforms = df.Platform.value_counts().sort_values(ascending = False).head(5).index.values\n",
    "sns.boxplot(y=\"Platform\", x=\"Critic_Score\", \n",
    "            data=df[df.Platform.isin(top_platforms)], orient=\"h\");"
   ]
  },
  {
   "cell_type": "markdown",
   "id": "eb596ed6-d2ad-4f1b-866a-212659888552",
   "metadata": {},
   "source": [
    "Что представляет из себя box plot? Box plot состоит из коробки (поэтому он и называется box plot), усиков и точек. Коробка показывает интерквантильный размах распределения, то есть соответственно 25% (Q1) и 75% (Q3) процентили. Черта внутри коробки обозначает медиану распределения. С коробкой разобрались, перейдем к усам. Усы отображают весь разброс точек кроме выбросов, то есть минимальные и максимальные значения, которые попадают в промежуток (Q1 - 1.5*IQR, Q3 + 1.5*IQR), где IQR = Q3 - Q1 - интерквантильный размах. Точками на графике обозначаются выбросы (outliers) - те значения, которые не вписываются в промежуток значений, заданный усами графика."
   ]
  },
  {
   "cell_type": "markdown",
   "id": "d9ae551b-1f16-4d58-8237-a373ce9f0e6c",
   "metadata": {},
   "source": [
    "И еще один тип графиков  - это `heat map`. `Heat map` позволяет посмотреть на распределение какого-то численного признака по двум категориальным. Визуализируем суммарные продажи игр по жанрам и игровым платформам."
   ]
  },
  {
   "cell_type": "code",
   "execution_count": null,
   "id": "eaed717d-d8c1-4edc-8c61-a42b11a7aa2c",
   "metadata": {},
   "outputs": [],
   "source": [
    "platform_genre_sales = df.pivot_table(\n",
    "                        index='Platform', \n",
    "                        columns='Genre', \n",
    "                        values='Global_Sales', \n",
    "                        aggfunc=sum).fillna(0).applymap(float)"
   ]
  },
  {
   "cell_type": "code",
   "execution_count": null,
   "id": "21cb4734-a9b9-4ef4-9463-ea3e8572bf6f",
   "metadata": {},
   "outputs": [],
   "source": [
    "sns.heatmap(platform_genre_sales, annot=True, fmt=\".1f\", linewidths=.5);"
   ]
  },
  {
   "cell_type": "markdown",
   "id": "42a0dcba-6a5e-4d11-8215-5b088f0ae411",
   "metadata": {},
   "source": [
    "# Plotly"
   ]
  },
  {
   "cell_type": "markdown",
   "id": "f29e9639-c137-4169-949e-9f3b5d16a286",
   "metadata": {},
   "source": [
    "Мы рассмотрели визуализации на базе библиотеки matplotlib. Однако, это не единственная опция для построения графиков на языке python. Познакомимся также с библиотекой plotly. Plotly - это open-source библиотека, которая позволяет строить интерактивные графики в jupyter.notebook'e без необходимости зарываться в javascript код."
   ]
  },
  {
   "cell_type": "markdown",
   "id": "82c4d4bf-27d1-46de-8e08-a4d862dd6819",
   "metadata": {},
   "source": [
    "Прелесть интерактивных графиков заключается в том, что можно посмотреть точное численное значение при наведении мыши, скрыть неинтересные ряды в визуализации, приблизить определенный участок графика и т.д."
   ]
  },
  {
   "cell_type": "markdown",
   "id": "3e08d2ee-7e97-488d-a20f-b9f9f89fcfca",
   "metadata": {},
   "source": [
    "Перед началом работы импортируем все необходимые модули и инициализируем plotly с помощью команды init_notebook_mode."
   ]
  },
  {
   "cell_type": "code",
   "execution_count": null,
   "id": "d2b6df9b-3bcc-475c-a5b0-369dc94696f3",
   "metadata": {},
   "outputs": [],
   "source": [
    "from plotly.offline import download_plotlyjs, init_notebook_mode, plot, iplot\n",
    "import plotly\n",
    "import plotly.graph_objs as go\n",
    "\n",
    "init_notebook_mode(connected=True)"
   ]
  },
  {
   "cell_type": "markdown",
   "id": "7ee70058-0778-4bea-8d79-f4be887ea5f7",
   "metadata": {},
   "source": [
    "Для начала построим `line plot` с динамикой числа вышедших игр и их продаж по годам."
   ]
  },
  {
   "cell_type": "code",
   "execution_count": null,
   "id": "d1f0f3b1-f71c-43c8-bfca-5d910a8537aa",
   "metadata": {},
   "outputs": [],
   "source": [
    "years_df = df.groupby('Year_of_Release')[['Global_Sales']].sum().join(\n",
    "    df.groupby('Year_of_Release')[['Name']].count())\n",
    "years_df.columns = ['Global_Sales', 'Number_of_Games']"
   ]
  },
  {
   "cell_type": "markdown",
   "id": "499fe987-31c9-4b4d-b497-8438289a9807",
   "metadata": {},
   "source": [
    "В `plotly` строится визуализация объекта `Figure`, который состоит из данных (массив линий, которые в библиотеке называются `traces`) и оформления/стиля, за который отвечает объект `layout`. В простых случаях можно вызывать функцию `iplot` и просто от массива `traces`."
   ]
  },
  {
   "cell_type": "code",
   "execution_count": null,
   "id": "47d19cd6-2a8f-4888-8029-da4f05c059a5",
   "metadata": {},
   "outputs": [],
   "source": [
    "trace0 = go.Scatter(\n",
    "    x=years_df.index,\n",
    "    y=years_df.Global_Sales,\n",
    "    name='Global Sales'\n",
    ")\n",
    "\n",
    "trace1 = go.Scatter(\n",
    "    x=years_df.index,\n",
    "    y=years_df.Number_of_Games,\n",
    "    name='Number of games released'\n",
    ")\n",
    "\n",
    "data = [trace0, trace1]\n",
    "layout = {'title': 'Statistics of video games'}\n",
    "\n",
    "fig = go.Figure(data=data, layout=layout)\n",
    "\n",
    "iplot(fig, show_link=False)"
   ]
  },
  {
   "cell_type": "markdown",
   "id": "9f2c5836-ed99-4242-acef-195cca6fde25",
   "metadata": {},
   "source": [
    "Также можно сразу сохранить график в виде html-файла."
   ]
  },
  {
   "cell_type": "code",
   "execution_count": null,
   "id": "88c3e65b-ef8c-43b4-a1d7-ea9f985abe1b",
   "metadata": {},
   "outputs": [],
   "source": [
    "plotly.offline.plot(fig, filename='years_stats.html', show_link=False);"
   ]
  },
  {
   "cell_type": "markdown",
   "id": "e4a8fba3-faff-4d92-ac89-7c1dfd4930c0",
   "metadata": {},
   "source": [
    "Посмотрим также на рыночную долю игровых платформ, расчитанную по количеству выпущенных игр и по суммарной выручке. Для этого построим `bar chart`."
   ]
  },
  {
   "cell_type": "code",
   "execution_count": null,
   "id": "b76bda66-fa78-4278-8199-dd17c0028962",
   "metadata": {},
   "outputs": [],
   "source": [
    "platforms_df = df.groupby('Platform')[['Global_Sales']].sum().join(\n",
    "    df.groupby('Platform')[['Name']].count()\n",
    ")\n",
    "platforms_df.columns = ['Global_Sales', 'Number_of_Games']\n",
    "platforms_df.sort_values('Global_Sales', ascending=False, inplace=True)"
   ]
  },
  {
   "cell_type": "code",
   "execution_count": null,
   "id": "3d9f0938-5eb6-4ea2-8e75-90f0b5b4f916",
   "metadata": {},
   "outputs": [],
   "source": [
    "trace0 = go.Bar(\n",
    "    x=platforms_df.index,\n",
    "    y=platforms_df.Global_Sales,\n",
    "    name='Global Sales'\n",
    ")\n",
    "\n",
    "trace1 = go.Bar(\n",
    "    x=platforms_df.index,\n",
    "    y=platforms_df.Number_of_Games,\n",
    "    name='Number of games released'\n",
    ")\n",
    "\n",
    "data = [trace0, trace1]\n",
    "layout = {'title': 'Share of platforms'}\n",
    "\n",
    "fig = go.Figure(data=data, layout=layout)\n",
    "\n",
    "iplot(fig, show_link=False)"
   ]
  },
  {
   "cell_type": "markdown",
   "id": "797ebfd9-1b4d-43f6-90da-ecd90be5c078",
   "metadata": {},
   "source": [
    "В `plotly` можно построить и __`box plot`__. Рассмотрим различия оценок критиков в зависимости от жанра игры."
   ]
  },
  {
   "cell_type": "code",
   "execution_count": null,
   "id": "22663c71-7a70-4bb7-b394-d67b0ded558e",
   "metadata": {},
   "outputs": [],
   "source": [
    "data = []\n",
    "\n",
    "for genre in df.Genre.unique():\n",
    "    data.append(\n",
    "        go.Box(y=df[df.Genre==genre].Critic_Score, name=genre)\n",
    "    )\n",
    "iplot(data, show_link = False)"
   ]
  }
 ],
 "metadata": {
  "kernelspec": {
   "display_name": "Python 3 (ipykernel)",
   "language": "python",
   "name": "python3"
  },
  "language_info": {
   "codemirror_mode": {
    "name": "ipython",
    "version": 3
   },
   "file_extension": ".py",
   "mimetype": "text/x-python",
   "name": "python",
   "nbconvert_exporter": "python",
   "pygments_lexer": "ipython3",
   "version": "3.11.5"
  }
 },
 "nbformat": 4,
 "nbformat_minor": 5
}
